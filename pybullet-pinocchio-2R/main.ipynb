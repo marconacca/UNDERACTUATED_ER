{
 "cells": [
  {
   "cell_type": "code",
   "execution_count": 1,
   "id": "24eee2a1",
   "metadata": {},
   "outputs": [
    {
     "name": "stderr",
     "output_type": "stream",
     "text": [
      "pybullet build time: Jun 12 2023 13:46:42\n"
     ]
    },
    {
     "name": "stdout",
     "output_type": "stream",
     "text": [
      "  R =\n",
      "          1           0           0\n",
      "          0 6.12323e-17           1\n",
      "          0          -1 6.12323e-17\n",
      "  p = 0.0190872      0.22    -0.065\n",
      "\n",
      "press ENTER to START the simulation:\n"
     ]
    },
    {
     "ename": "error",
     "evalue": "Not connected to physics server.",
     "output_type": "error",
     "traceback": [
      "\u001b[0;31m---------------------------------------------------------------------------\u001b[0m",
      "\u001b[0;31merror\u001b[0m                                     Traceback (most recent call last)",
      "Cell \u001b[0;32mIn[1], line 2\u001b[0m\n\u001b[1;32m      1\u001b[0m \u001b[38;5;28;01mimport\u001b[39;00m \u001b[38;5;21;01msimulation\u001b[39;00m\n\u001b[0;32m----> 2\u001b[0m \u001b[43msimulation\u001b[49m\u001b[38;5;241;43m.\u001b[39;49m\u001b[43msimulate\u001b[49m\u001b[43m(\u001b[49m\u001b[43m)\u001b[49m\n",
      "File \u001b[0;32m~/Desktop/underactuated-examples-main/pybullet-pinocchio-2R/simulation.py:56\u001b[0m, in \u001b[0;36msimulate\u001b[0;34m()\u001b[0m\n\u001b[1;32m     52\u001b[0m     pb\u001b[38;5;241m.\u001b[39msetJointMotorControlArray(\n\u001b[1;32m     53\u001b[0m         robotID, jointIndices, controlMode \u001b[38;5;241m=\u001b[39m pb\u001b[38;5;241m.\u001b[39mTORQUE_CONTROL, forces \u001b[38;5;241m=\u001b[39m tau)\n\u001b[1;32m     55\u001b[0m     \u001b[38;5;66;03m# advance the simulation one step\u001b[39;00m\n\u001b[0;32m---> 56\u001b[0m     \u001b[43mpb\u001b[49m\u001b[38;5;241;43m.\u001b[39;49m\u001b[43mstepSimulation\u001b[49m\u001b[43m(\u001b[49m\u001b[43m)\u001b[49m\n\u001b[1;32m     57\u001b[0m     time\u001b[38;5;241m.\u001b[39msleep(simDT)\n\u001b[1;32m     60\u001b[0m \u001b[38;5;28minput\u001b[39m(\u001b[38;5;124m\"\u001b[39m\u001b[38;5;124mpress ENTER to CLOSE the simulation:\u001b[39m\u001b[38;5;124m\"\u001b[39m)\n",
      "\u001b[0;31merror\u001b[0m: Not connected to physics server."
     ]
    }
   ],
   "source": [
    "import simulation\n",
    "simulation.simulate()"
   ]
  },
  {
   "cell_type": "code",
   "execution_count": null,
   "id": "8661789c",
   "metadata": {},
   "outputs": [],
   "source": []
  }
 ],
 "metadata": {
  "kernelspec": {
   "display_name": "Python 3 (ipykernel)",
   "language": "python",
   "name": "python3"
  },
  "language_info": {
   "codemirror_mode": {
    "name": "ipython",
    "version": 3
   },
   "file_extension": ".py",
   "mimetype": "text/x-python",
   "name": "python",
   "nbconvert_exporter": "python",
   "pygments_lexer": "ipython3",
   "version": "3.11.4"
  }
 },
 "nbformat": 4,
 "nbformat_minor": 5
}
