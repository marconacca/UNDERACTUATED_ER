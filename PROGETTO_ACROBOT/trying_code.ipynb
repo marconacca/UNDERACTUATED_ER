{
 "cells": [
  {
   "cell_type": "code",
   "execution_count": 1,
   "metadata": {},
   "outputs": [
    {
     "name": "stdout",
     "output_type": "stream",
     "text": [
      "-----thresh_kd:  122.4074218576685\n",
      "-----thresh_kp:  61.140962938182525\n"
     ]
    }
   ],
   "source": [
    "# trying code\n",
    "# Define the function\n",
    "import numpy as np\n",
    "\n",
    "q = np.array([np.pi/2,0])\n",
    "qdot = np.array([0,0])\n",
    "\n",
    "# Paper parameters\n",
    "l1 = 1\n",
    "l2 = 2\n",
    "lc1 = 0.5\n",
    "lc2 = 1\n",
    "m1 = 1\n",
    "m2 = 1\n",
    "# inertia for each links (other values are smaller than 10^-8, I keep until 10^-5)\n",
    "Iz1 = 0.083\n",
    "Iz2 = 0.33\n",
    "g = 9.8\n",
    "\n",
    "\n",
    "# dinamics parameters\n",
    "alpha1 = m1*lc1**2 + m2*l1**2 + Iz1\n",
    "alpha2 = m2*lc2**2 + Iz2\n",
    "alpha3 = m2*l1*lc2\n",
    "beta1 = (m1*lc1 + m2*l1)*g\n",
    "beta2 = m2*lc2*g\n",
    "\n",
    "\n",
    "M = np.matrix([[alpha1+alpha2+2*alpha3*np.cos(q[1]), alpha2+alpha3*np.cos(q[1])],\n",
    "                [alpha2+alpha3*np.cos(q[1]), alpha2]])\n",
    "C = alpha3*np.array([-2*qdot[0]*qdot[1] - qdot[1]**2, qdot[0]**2])*np.sin(q[1])\n",
    "#C = np.multiply(np.multiply(alpha3,np.array([-2*qdot[0]*qdot[1] - qdot[1]**2, qdot[0]**2])),np.sin(q[1]))\n",
    "G = np.array([beta1*np.cos(q[0]) + beta2*np.cos(q[0]+q[1]), beta2*np.cos(q[0]+q[1])])\n",
    "\n",
    "#M_det = np.linalg.det(M)\n",
    "M_det = alpha1*alpha2 - (alpha3**2)*(np.cos(q[1])**2)\n",
    "\n",
    "\n",
    "# compute the desired energy (potential energy up-right position)\n",
    "desired_energy = beta1 + beta2\n",
    "\n",
    "\n",
    "#phi = math.sqrt(beta1**2+beta2**2+2*beta1*beta2*np.cos(q[1]))\n",
    "\n",
    "\n",
    "# Define the function\n",
    "def max_f_kd(q2):\n",
    "    phi2 = np.sqrt(beta1**2+beta2**2+2*beta1*beta2*np.cos(q2))\n",
    "    return ((phi2 + desired_energy)*(alpha1*alpha2 - (alpha3**2)*(np.cos(q2**2))))/(alpha1+alpha2+2*alpha3*np.cos(q2)) \n",
    "\n",
    "q2_values = np.linspace(0, 2*(np.pi), 360)\n",
    "\n",
    "thresh_kd_vec = max_f_kd(q2_values)\n",
    "thresh_kd = max( thresh_kd_vec)\n",
    "print('-----thresh_kd: ', thresh_kd)\n",
    "\n",
    "\n",
    "# from scipy.optimize import minimize_scalar\n",
    "\n",
    "# # Define your function to maximize\n",
    "# def f(q2):\n",
    "#     phi2 = np.sqrt(beta1**2+beta2**2+2*beta1*beta2*np.cos(q2))\n",
    "#     return -(phi2 + desired_energy)*(alpha1*alpha2 - (alpha3**2)*(np.cos(q2**2)))/(alpha1+alpha2+2*alpha3*np.cos(q2))   # Negate the function to maximize\n",
    "\n",
    "# # Use minimize_scalar function to find the maximum\n",
    "# result = minimize_scalar(f, bounds=(0, 2*np.pi), method='bounded')\n",
    "\n",
    "# # Retrieve the maximum value and the corresponding x\n",
    "# max_value = -result.fun\n",
    "# argmax = result.x\n",
    "\n",
    "# print(\"Maximum value:\", max_value)\n",
    "# print(\"Argmax:\", argmax)\n",
    "\n",
    "thresh_kp = (2/np.pi)*min(beta1**2, beta2**2)\n",
    "print('-----thresh_kp: ', thresh_kp)"
   ]
  },
  {
   "cell_type": "code",
   "execution_count": null,
   "metadata": {},
   "outputs": [],
   "source": [
    "q2_values = np.linspace(0, 2*(np.pi), 360)\n",
    "phi2 = np.sqrt(np.cos(q2_values))\n",
    "print(phi2)"
   ]
  },
  {
   "cell_type": "code",
   "execution_count": 33,
   "metadata": {},
   "outputs": [
    {
     "name": "stdout",
     "output_type": "stream",
     "text": [
      "-----thresh_kp:  61.140962938182525\n",
      "beta1 and beta2 : 14.700000000000001 9.8\n",
      "minn 96.04000000000002\n"
     ]
    }
   ],
   "source": [
    "\n",
    "# l1 = 0.1425\n",
    "# l2 = 0.2305\n",
    "# lc1 = 0.035\n",
    "# lc2 = l1 + 0.1\n",
    "# m1 = 0.26703\n",
    "# m2 = 0.33238\n",
    "# # inertia for each links (other values are smaller than 10^-8, I keep until 10^-5)\n",
    "# I1 = np.matrix([[0.00040827, 0, 0.000018738], [0, 0.00038791, 0], [0.000018738, 0, 0.000036421]])\n",
    "# I2 = np.matrix([[0.0011753, 0, 0], [0, 0.0011666, 0], [0, 0, 0.000014553]])\n",
    "# Iz1 = I1[2,2]\n",
    "# Iz2 = I2[2,2]\n",
    "# g = -9.81\n",
    "\n",
    "# Paper parameters\n",
    "l1 = 1\n",
    "l2 = 2\n",
    "lc1 = 0.5\n",
    "lc2 = 1\n",
    "m1 = 1\n",
    "m2 = 1\n",
    "# inertia for each links (other values are smaller than 10^-8, I keep until 10^-5)\n",
    "Iz1 = 0.083\n",
    "Iz2 = 0.33\n",
    "g = 9.8\n",
    "\n",
    "\n",
    "alpha1 = m1*lc1**2 + m2*l1**2 + Iz1\n",
    "alpha2 = m2*lc2**2 + Iz2\n",
    "alpha3 = m2*l1*lc2\n",
    "beta1 = (m1*lc1 + m2*l1)*g\n",
    "beta2 = m2*lc2*g\n",
    "\n",
    "thresh_kp = (2/np.pi)*min(beta1**2, beta2**2)\n",
    "print('-----thresh_kp: ', thresh_kp)\n",
    "print('beta1 and beta2 :', beta1, beta2)\n",
    "print('minn', min(beta1**2, beta2**2))"
   ]
  },
  {
   "cell_type": "code",
   "execution_count": 28,
   "metadata": {},
   "outputs": [
    {
     "name": "stdout",
     "output_type": "stream",
     "text": [
      "104\n"
     ]
    }
   ],
   "source": [
    "M = np.matrix([[2, 3], [4, 6]])\n",
    "M = np.squeeze(np.asarray(M))\n",
    "q = np.array([2,3])\n",
    "\n",
    "r = np.dot(q, np.dot(M,q))\n",
    "print(r)"
   ]
  },
  {
   "cell_type": "code",
   "execution_count": 22,
   "metadata": {},
   "outputs": [
    {
     "name": "stdout",
     "output_type": "stream",
     "text": [
      "[[0 0]]\n"
     ]
    }
   ],
   "source": [
    "import numpy as np\n",
    "n = np.array([0,0])\n",
    "t = np.array([n])\n",
    "#m = np.array([5, 8])\n",
    "#t = m - n\n",
    "#t = np.concatenate((n,m))\n",
    "for i in range(10):\n",
    "    m = np.array([i+1, i+11])\n",
    "    t = np.append(t, [m], axis=0)\n",
    "\n",
    "print(t)"
   ]
  },
  {
   "cell_type": "code",
   "execution_count": 7,
   "metadata": {},
   "outputs": [
    {
     "name": "stdout",
     "output_type": "stream",
     "text": [
      "1.5707963267948966\n"
     ]
    }
   ],
   "source": [
    "print(np.pi/2 % (2 * np.pi) )"
   ]
  },
  {
   "cell_type": "code",
   "execution_count": 7,
   "metadata": {},
   "outputs": [
    {
     "name": "stdout",
     "output_type": "stream",
     "text": [
      "[0.         0.00046296 0.00092593 0.00138889 0.00185185 0.00231481\n",
      " 0.00277778 0.00324074 0.0037037  0.00416667]\n",
      "0.004166666666666667\n"
     ]
    }
   ],
   "source": [
    "t = np.linspace(0, 1/240, 10)\n",
    "print(t)\n",
    "print(1/240)"
   ]
  },
  {
   "cell_type": "code",
   "execution_count": null,
   "metadata": {},
   "outputs": [],
   "source": []
  }
 ],
 "metadata": {
  "kernelspec": {
   "display_name": "virtual_env",
   "language": "python",
   "name": "python3"
  },
  "language_info": {
   "codemirror_mode": {
    "name": "ipython",
    "version": 3
   },
   "file_extension": ".py",
   "mimetype": "text/x-python",
   "name": "python",
   "nbconvert_exporter": "python",
   "pygments_lexer": "ipython3",
   "version": "3.11.2"
  },
  "orig_nbformat": 4
 },
 "nbformat": 4,
 "nbformat_minor": 2
}
