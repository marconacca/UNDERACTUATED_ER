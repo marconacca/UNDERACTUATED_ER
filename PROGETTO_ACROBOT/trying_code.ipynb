{
 "cells": [
  {
   "cell_type": "code",
   "execution_count": 1,
   "metadata": {},
   "outputs": [
    {
     "name": "stdout",
     "output_type": "stream",
     "text": [
      "-----thresh_kd:  122.4074218576685\n",
      "-----thresh_kp:  61.140962938182525\n"
     ]
    }
   ],
   "source": [
    "# trying code\n",
    "# Define the function\n",
    "import numpy as np\n",
    "\n",
    "q = np.array([np.pi/2,0])\n",
    "qdot = np.array([0,0])\n",
    "\n",
    "# Paper parameters\n",
    "l1 = 1\n",
    "l2 = 2\n",
    "lc1 = 0.5\n",
    "lc2 = 1\n",
    "m1 = 1\n",
    "m2 = 1\n",
    "# inertia for each links (other values are smaller than 10^-8, I keep until 10^-5)\n",
    "Iz1 = 0.083\n",
    "Iz2 = 0.33\n",
    "g = 9.8\n",
    "\n",
    "\n",
    "# dinamics parameters\n",
    "alpha1 = m1*lc1**2 + m2*l1**2 + Iz1\n",
    "alpha2 = m2*lc2**2 + Iz2\n",
    "alpha3 = m2*l1*lc2\n",
    "beta1 = (m1*lc1 + m2*l1)*g\n",
    "beta2 = m2*lc2*g\n",
    "\n",
    "\n",
    "M = np.matrix([[alpha1+alpha2+2*alpha3*np.cos(q[1]), alpha2+alpha3*np.cos(q[1])],\n",
    "                [alpha2+alpha3*np.cos(q[1]), alpha2]])\n",
    "C = alpha3*np.array([-2*qdot[0]*qdot[1] - qdot[1]**2, qdot[0]**2])*np.sin(q[1])\n",
    "#C = np.multiply(np.multiply(alpha3,np.array([-2*qdot[0]*qdot[1] - qdot[1]**2, qdot[0]**2])),np.sin(q[1]))\n",
    "G = np.array([beta1*np.cos(q[0]) + beta2*np.cos(q[0]+q[1]), beta2*np.cos(q[0]+q[1])])\n",
    "\n",
    "#M_det = np.linalg.det(M)\n",
    "M_det = alpha1*alpha2 - (alpha3**2)*(np.cos(q[1])**2)\n",
    "\n",
    "\n",
    "# compute the desired energy (potential energy up-right position)\n",
    "desired_energy = beta1 + beta2\n",
    "\n",
    "\n",
    "#phi = math.sqrt(beta1**2+beta2**2+2*beta1*beta2*np.cos(q[1]))\n",
    "\n",
    "\n",
    "# Define the function\n",
    "def max_f_kd(q2):\n",
    "    phi2 = np.sqrt(beta1**2+beta2**2+2*beta1*beta2*np.cos(q2))\n",
    "    return ((phi2 + desired_energy)*(alpha1*alpha2 - (alpha3**2)*(np.cos(q2**2))))/(alpha1+alpha2+2*alpha3*np.cos(q2)) \n",
    "\n",
    "q2_values = np.linspace(0, 2*(np.pi), 360)\n",
    "\n",
    "thresh_kd_vec = max_f_kd(q2_values)\n",
    "thresh_kd = max( thresh_kd_vec)\n",
    "print('-----thresh_kd: ', thresh_kd)\n",
    "\n",
    "\n",
    "# from scipy.optimize import minimize_scalar\n",
    "\n",
    "# # Define your function to maximize\n",
    "# def f(q2):\n",
    "#     phi2 = np.sqrt(beta1**2+beta2**2+2*beta1*beta2*np.cos(q2))\n",
    "#     return -(phi2 + desired_energy)*(alpha1*alpha2 - (alpha3**2)*(np.cos(q2**2)))/(alpha1+alpha2+2*alpha3*np.cos(q2))   # Negate the function to maximize\n",
    "\n",
    "# # Use minimize_scalar function to find the maximum\n",
    "# result = minimize_scalar(f, bounds=(0, 2*np.pi), method='bounded')\n",
    "\n",
    "# # Retrieve the maximum value and the corresponding x\n",
    "# max_value = -result.fun\n",
    "# argmax = result.x\n",
    "\n",
    "# print(\"Maximum value:\", max_value)\n",
    "# print(\"Argmax:\", argmax)\n",
    "\n",
    "thresh_kp = (2/np.pi)*min(beta1**2, beta2**2)\n",
    "print('-----thresh_kp: ', thresh_kp)"
   ]
  },
  {
   "cell_type": "code",
   "execution_count": null,
   "metadata": {},
   "outputs": [],
   "source": [
    "q2_values = np.linspace(0, 2*(np.pi), 360)\n",
    "phi2 = np.sqrt(np.cos(q2_values))\n",
    "print(phi2)"
   ]
  },
  {
   "cell_type": "code",
   "execution_count": 33,
   "metadata": {},
   "outputs": [
    {
     "name": "stdout",
     "output_type": "stream",
     "text": [
      "-----thresh_kp:  61.140962938182525\n",
      "beta1 and beta2 : 14.700000000000001 9.8\n",
      "minn 96.04000000000002\n"
     ]
    }
   ],
   "source": [
    "\n",
    "# l1 = 0.1425\n",
    "# l2 = 0.2305\n",
    "# lc1 = 0.035\n",
    "# lc2 = l1 + 0.1\n",
    "# m1 = 0.26703\n",
    "# m2 = 0.33238\n",
    "# # inertia for each links (other values are smaller than 10^-8, I keep until 10^-5)\n",
    "# I1 = np.matrix([[0.00040827, 0, 0.000018738], [0, 0.00038791, 0], [0.000018738, 0, 0.000036421]])\n",
    "# I2 = np.matrix([[0.0011753, 0, 0], [0, 0.0011666, 0], [0, 0, 0.000014553]])\n",
    "# Iz1 = I1[2,2]\n",
    "# Iz2 = I2[2,2]\n",
    "# g = -9.81\n",
    "\n",
    "# Paper parameters\n",
    "l1 = 1\n",
    "l2 = 2\n",
    "lc1 = 0.5\n",
    "lc2 = 1\n",
    "m1 = 1\n",
    "m2 = 1\n",
    "# inertia for each links (other values are smaller than 10^-8, I keep until 10^-5)\n",
    "Iz1 = 0.083\n",
    "Iz2 = 0.33\n",
    "g = 9.8\n",
    "\n",
    "\n",
    "alpha1 = m1*lc1**2 + m2*l1**2 + Iz1\n",
    "alpha2 = m2*lc2**2 + Iz2\n",
    "alpha3 = m2*l1*lc2\n",
    "beta1 = (m1*lc1 + m2*l1)*g\n",
    "beta2 = m2*lc2*g\n",
    "\n",
    "thresh_kp = (2/np.pi)*min(beta1**2, beta2**2)\n",
    "print('-----thresh_kp: ', thresh_kp)\n",
    "print('beta1 and beta2 :', beta1, beta2)\n",
    "print('minn', min(beta1**2, beta2**2))"
   ]
  },
  {
   "cell_type": "code",
   "execution_count": 28,
   "metadata": {},
   "outputs": [
    {
     "name": "stdout",
     "output_type": "stream",
     "text": [
      "104\n"
     ]
    }
   ],
   "source": [
    "M = np.matrix([[2, 3], [4, 6]])\n",
    "M = np.squeeze(np.asarray(M))\n",
    "q = np.array([2,3])\n",
    "\n",
    "r = np.dot(q, np.dot(M,q))\n",
    "print(r)"
   ]
  },
  {
   "cell_type": "code",
   "execution_count": 22,
   "metadata": {},
   "outputs": [
    {
     "name": "stdout",
     "output_type": "stream",
     "text": [
      "[[0 0]]\n"
     ]
    }
   ],
   "source": [
    "import numpy as np\n",
    "n = np.array([0,0])\n",
    "t = np.array([n])\n",
    "#m = np.array([5, 8])\n",
    "#t = m - n\n",
    "#t = np.concatenate((n,m))\n",
    "for i in range(10):\n",
    "    m = np.array([i+1, i+11])\n",
    "    t = np.append(t, [m], axis=0)\n",
    "\n",
    "print(t)"
   ]
  },
  {
   "cell_type": "code",
   "execution_count": 7,
   "metadata": {},
   "outputs": [
    {
     "name": "stdout",
     "output_type": "stream",
     "text": [
      "1.5707963267948966\n"
     ]
    }
   ],
   "source": [
    "print(np.pi/2 % (2 * np.pi) )"
   ]
  },
  {
   "cell_type": "code",
   "execution_count": 7,
   "metadata": {},
   "outputs": [
    {
     "name": "stdout",
     "output_type": "stream",
     "text": [
      "[0.         0.00046296 0.00092593 0.00138889 0.00185185 0.00231481\n",
      " 0.00277778 0.00324074 0.0037037  0.00416667]\n",
      "0.004166666666666667\n"
     ]
    }
   ],
   "source": [
    "t = np.linspace(0, 1/240, 10)\n",
    "print(t)\n",
    "print(1/240)"
   ]
  },
  {
   "cell_type": "code",
   "execution_count": 1,
   "metadata": {},
   "outputs": [
    {
     "name": "stdout",
     "output_type": "stream",
     "text": [
      "0 / 300\n"
     ]
    },
    {
     "ename": "FileNotFoundError",
     "evalue": "[Errno 2] No such file or directory: 'frames/_img0000.png'",
     "output_type": "error",
     "traceback": [
      "\u001b[0;31m---------------------------------------------------------------------------\u001b[0m",
      "\u001b[0;31mFileNotFoundError\u001b[0m                         Traceback (most recent call last)",
      "Cell \u001b[0;32mIn[1], line 115\u001b[0m\n\u001b[1;32m    113\u001b[0m \u001b[39mfor\u001b[39;00m i \u001b[39min\u001b[39;00m \u001b[39mrange\u001b[39m(\u001b[39m0\u001b[39m, t\u001b[39m.\u001b[39msize, di):\n\u001b[1;32m    114\u001b[0m     \u001b[39mprint\u001b[39m(i \u001b[39m/\u001b[39m\u001b[39m/\u001b[39m di, \u001b[39m'\u001b[39m\u001b[39m/\u001b[39m\u001b[39m'\u001b[39m, t\u001b[39m.\u001b[39msize \u001b[39m/\u001b[39m\u001b[39m/\u001b[39m di)\n\u001b[0;32m--> 115\u001b[0m     make_plot(i)\n",
      "Cell \u001b[0;32mIn[1], line 101\u001b[0m, in \u001b[0;36mmake_plot\u001b[0;34m(i)\u001b[0m\n\u001b[1;32m     99\u001b[0m ax\u001b[39m.\u001b[39mset_aspect(\u001b[39m'\u001b[39m\u001b[39mequal\u001b[39m\u001b[39m'\u001b[39m, adjustable\u001b[39m=\u001b[39m\u001b[39m'\u001b[39m\u001b[39mbox\u001b[39m\u001b[39m'\u001b[39m)\n\u001b[1;32m    100\u001b[0m plt\u001b[39m.\u001b[39maxis(\u001b[39m'\u001b[39m\u001b[39moff\u001b[39m\u001b[39m'\u001b[39m)\n\u001b[0;32m--> 101\u001b[0m plt\u001b[39m.\u001b[39;49msavefig(\u001b[39m'\u001b[39;49m\u001b[39mframes/_img\u001b[39;49m\u001b[39m{:04d}\u001b[39;49;00m\u001b[39m.png\u001b[39;49m\u001b[39m'\u001b[39;49m\u001b[39m.\u001b[39;49mformat(i\u001b[39m/\u001b[39;49m\u001b[39m/\u001b[39;49mdi), dpi\u001b[39m=\u001b[39;49m\u001b[39m72\u001b[39;49m)\n\u001b[1;32m    102\u001b[0m plt\u001b[39m.\u001b[39mcla()\n",
      "File \u001b[0;32m~/virtual_env/lib/python3.11/site-packages/matplotlib/pyplot.py:1023\u001b[0m, in \u001b[0;36msavefig\u001b[0;34m(*args, **kwargs)\u001b[0m\n\u001b[1;32m   1020\u001b[0m \u001b[39m@_copy_docstring_and_deprecators\u001b[39m(Figure\u001b[39m.\u001b[39msavefig)\n\u001b[1;32m   1021\u001b[0m \u001b[39mdef\u001b[39;00m \u001b[39msavefig\u001b[39m(\u001b[39m*\u001b[39margs, \u001b[39m*\u001b[39m\u001b[39m*\u001b[39mkwargs):\n\u001b[1;32m   1022\u001b[0m     fig \u001b[39m=\u001b[39m gcf()\n\u001b[0;32m-> 1023\u001b[0m     res \u001b[39m=\u001b[39m fig\u001b[39m.\u001b[39;49msavefig(\u001b[39m*\u001b[39;49margs, \u001b[39m*\u001b[39;49m\u001b[39m*\u001b[39;49mkwargs)\n\u001b[1;32m   1024\u001b[0m     fig\u001b[39m.\u001b[39mcanvas\u001b[39m.\u001b[39mdraw_idle()  \u001b[39m# Need this if 'transparent=True', to reset colors.\u001b[39;00m\n\u001b[1;32m   1025\u001b[0m     \u001b[39mreturn\u001b[39;00m res\n",
      "File \u001b[0;32m~/virtual_env/lib/python3.11/site-packages/matplotlib/figure.py:3378\u001b[0m, in \u001b[0;36mFigure.savefig\u001b[0;34m(self, fname, transparent, **kwargs)\u001b[0m\n\u001b[1;32m   3374\u001b[0m     \u001b[39mfor\u001b[39;00m ax \u001b[39min\u001b[39;00m \u001b[39mself\u001b[39m\u001b[39m.\u001b[39maxes:\n\u001b[1;32m   3375\u001b[0m         stack\u001b[39m.\u001b[39menter_context(\n\u001b[1;32m   3376\u001b[0m             ax\u001b[39m.\u001b[39mpatch\u001b[39m.\u001b[39m_cm_set(facecolor\u001b[39m=\u001b[39m\u001b[39m'\u001b[39m\u001b[39mnone\u001b[39m\u001b[39m'\u001b[39m, edgecolor\u001b[39m=\u001b[39m\u001b[39m'\u001b[39m\u001b[39mnone\u001b[39m\u001b[39m'\u001b[39m))\n\u001b[0;32m-> 3378\u001b[0m \u001b[39mself\u001b[39;49m\u001b[39m.\u001b[39;49mcanvas\u001b[39m.\u001b[39;49mprint_figure(fname, \u001b[39m*\u001b[39;49m\u001b[39m*\u001b[39;49mkwargs)\n",
      "File \u001b[0;32m~/virtual_env/lib/python3.11/site-packages/matplotlib/backend_bases.py:2366\u001b[0m, in \u001b[0;36mFigureCanvasBase.print_figure\u001b[0;34m(self, filename, dpi, facecolor, edgecolor, orientation, format, bbox_inches, pad_inches, bbox_extra_artists, backend, **kwargs)\u001b[0m\n\u001b[1;32m   2362\u001b[0m \u001b[39mtry\u001b[39;00m:\n\u001b[1;32m   2363\u001b[0m     \u001b[39m# _get_renderer may change the figure dpi (as vector formats\u001b[39;00m\n\u001b[1;32m   2364\u001b[0m     \u001b[39m# force the figure dpi to 72), so we need to set it again here.\u001b[39;00m\n\u001b[1;32m   2365\u001b[0m     \u001b[39mwith\u001b[39;00m cbook\u001b[39m.\u001b[39m_setattr_cm(\u001b[39mself\u001b[39m\u001b[39m.\u001b[39mfigure, dpi\u001b[39m=\u001b[39mdpi):\n\u001b[0;32m-> 2366\u001b[0m         result \u001b[39m=\u001b[39m print_method(\n\u001b[1;32m   2367\u001b[0m             filename,\n\u001b[1;32m   2368\u001b[0m             facecolor\u001b[39m=\u001b[39;49mfacecolor,\n\u001b[1;32m   2369\u001b[0m             edgecolor\u001b[39m=\u001b[39;49medgecolor,\n\u001b[1;32m   2370\u001b[0m             orientation\u001b[39m=\u001b[39;49morientation,\n\u001b[1;32m   2371\u001b[0m             bbox_inches_restore\u001b[39m=\u001b[39;49m_bbox_inches_restore,\n\u001b[1;32m   2372\u001b[0m             \u001b[39m*\u001b[39;49m\u001b[39m*\u001b[39;49mkwargs)\n\u001b[1;32m   2373\u001b[0m \u001b[39mfinally\u001b[39;00m:\n\u001b[1;32m   2374\u001b[0m     \u001b[39mif\u001b[39;00m bbox_inches \u001b[39mand\u001b[39;00m restore_bbox:\n",
      "File \u001b[0;32m~/virtual_env/lib/python3.11/site-packages/matplotlib/backend_bases.py:2232\u001b[0m, in \u001b[0;36mFigureCanvasBase._switch_canvas_and_return_print_method.<locals>.<lambda>\u001b[0;34m(*args, **kwargs)\u001b[0m\n\u001b[1;32m   2228\u001b[0m     optional_kws \u001b[39m=\u001b[39m {  \u001b[39m# Passed by print_figure for other renderers.\u001b[39;00m\n\u001b[1;32m   2229\u001b[0m         \u001b[39m\"\u001b[39m\u001b[39mdpi\u001b[39m\u001b[39m\"\u001b[39m, \u001b[39m\"\u001b[39m\u001b[39mfacecolor\u001b[39m\u001b[39m\"\u001b[39m, \u001b[39m\"\u001b[39m\u001b[39medgecolor\u001b[39m\u001b[39m\"\u001b[39m, \u001b[39m\"\u001b[39m\u001b[39morientation\u001b[39m\u001b[39m\"\u001b[39m,\n\u001b[1;32m   2230\u001b[0m         \u001b[39m\"\u001b[39m\u001b[39mbbox_inches_restore\u001b[39m\u001b[39m\"\u001b[39m}\n\u001b[1;32m   2231\u001b[0m     skip \u001b[39m=\u001b[39m optional_kws \u001b[39m-\u001b[39m {\u001b[39m*\u001b[39minspect\u001b[39m.\u001b[39msignature(meth)\u001b[39m.\u001b[39mparameters}\n\u001b[0;32m-> 2232\u001b[0m     print_method \u001b[39m=\u001b[39m functools\u001b[39m.\u001b[39mwraps(meth)(\u001b[39mlambda\u001b[39;00m \u001b[39m*\u001b[39margs, \u001b[39m*\u001b[39m\u001b[39m*\u001b[39mkwargs: meth(\n\u001b[1;32m   2233\u001b[0m         \u001b[39m*\u001b[39;49margs, \u001b[39m*\u001b[39;49m\u001b[39m*\u001b[39;49m{k: v \u001b[39mfor\u001b[39;49;00m k, v \u001b[39min\u001b[39;49;00m kwargs\u001b[39m.\u001b[39;49mitems() \u001b[39mif\u001b[39;49;00m k \u001b[39mnot\u001b[39;49;00m \u001b[39min\u001b[39;49;00m skip}))\n\u001b[1;32m   2234\u001b[0m \u001b[39melse\u001b[39;00m:  \u001b[39m# Let third-parties do as they see fit.\u001b[39;00m\n\u001b[1;32m   2235\u001b[0m     print_method \u001b[39m=\u001b[39m meth\n",
      "File \u001b[0;32m~/virtual_env/lib/python3.11/site-packages/matplotlib/backends/backend_agg.py:509\u001b[0m, in \u001b[0;36mFigureCanvasAgg.print_png\u001b[0;34m(self, filename_or_obj, metadata, pil_kwargs)\u001b[0m\n\u001b[1;32m    462\u001b[0m \u001b[39mdef\u001b[39;00m \u001b[39mprint_png\u001b[39m(\u001b[39mself\u001b[39m, filename_or_obj, \u001b[39m*\u001b[39m, metadata\u001b[39m=\u001b[39m\u001b[39mNone\u001b[39;00m, pil_kwargs\u001b[39m=\u001b[39m\u001b[39mNone\u001b[39;00m):\n\u001b[1;32m    463\u001b[0m \u001b[39m    \u001b[39m\u001b[39m\"\"\"\u001b[39;00m\n\u001b[1;32m    464\u001b[0m \u001b[39m    Write the figure to a PNG file.\u001b[39;00m\n\u001b[1;32m    465\u001b[0m \n\u001b[0;32m   (...)\u001b[0m\n\u001b[1;32m    507\u001b[0m \u001b[39m        *metadata*, including the default 'Software' key.\u001b[39;00m\n\u001b[1;32m    508\u001b[0m \u001b[39m    \"\"\"\u001b[39;00m\n\u001b[0;32m--> 509\u001b[0m     \u001b[39mself\u001b[39;49m\u001b[39m.\u001b[39;49m_print_pil(filename_or_obj, \u001b[39m\"\u001b[39;49m\u001b[39mpng\u001b[39;49m\u001b[39m\"\u001b[39;49m, pil_kwargs, metadata)\n",
      "File \u001b[0;32m~/virtual_env/lib/python3.11/site-packages/matplotlib/backends/backend_agg.py:458\u001b[0m, in \u001b[0;36mFigureCanvasAgg._print_pil\u001b[0;34m(self, filename_or_obj, fmt, pil_kwargs, metadata)\u001b[0m\n\u001b[1;32m    453\u001b[0m \u001b[39m\u001b[39m\u001b[39m\"\"\"\u001b[39;00m\n\u001b[1;32m    454\u001b[0m \u001b[39mDraw the canvas, then save it using `.image.imsave` (to which\u001b[39;00m\n\u001b[1;32m    455\u001b[0m \u001b[39m*pil_kwargs* and *metadata* are forwarded).\u001b[39;00m\n\u001b[1;32m    456\u001b[0m \u001b[39m\"\"\"\u001b[39;00m\n\u001b[1;32m    457\u001b[0m FigureCanvasAgg\u001b[39m.\u001b[39mdraw(\u001b[39mself\u001b[39m)\n\u001b[0;32m--> 458\u001b[0m mpl\u001b[39m.\u001b[39;49mimage\u001b[39m.\u001b[39;49mimsave(\n\u001b[1;32m    459\u001b[0m     filename_or_obj, \u001b[39mself\u001b[39;49m\u001b[39m.\u001b[39;49mbuffer_rgba(), \u001b[39mformat\u001b[39;49m\u001b[39m=\u001b[39;49mfmt, origin\u001b[39m=\u001b[39;49m\u001b[39m\"\u001b[39;49m\u001b[39mupper\u001b[39;49m\u001b[39m\"\u001b[39;49m,\n\u001b[1;32m    460\u001b[0m     dpi\u001b[39m=\u001b[39;49m\u001b[39mself\u001b[39;49m\u001b[39m.\u001b[39;49mfigure\u001b[39m.\u001b[39;49mdpi, metadata\u001b[39m=\u001b[39;49mmetadata, pil_kwargs\u001b[39m=\u001b[39;49mpil_kwargs)\n",
      "File \u001b[0;32m~/virtual_env/lib/python3.11/site-packages/matplotlib/image.py:1689\u001b[0m, in \u001b[0;36mimsave\u001b[0;34m(fname, arr, vmin, vmax, cmap, format, origin, dpi, metadata, pil_kwargs)\u001b[0m\n\u001b[1;32m   1687\u001b[0m pil_kwargs\u001b[39m.\u001b[39msetdefault(\u001b[39m\"\u001b[39m\u001b[39mformat\u001b[39m\u001b[39m\"\u001b[39m, \u001b[39mformat\u001b[39m)\n\u001b[1;32m   1688\u001b[0m pil_kwargs\u001b[39m.\u001b[39msetdefault(\u001b[39m\"\u001b[39m\u001b[39mdpi\u001b[39m\u001b[39m\"\u001b[39m, (dpi, dpi))\n\u001b[0;32m-> 1689\u001b[0m image\u001b[39m.\u001b[39;49msave(fname, \u001b[39m*\u001b[39;49m\u001b[39m*\u001b[39;49mpil_kwargs)\n",
      "File \u001b[0;32m~/virtual_env/lib/python3.11/site-packages/PIL/Image.py:2410\u001b[0m, in \u001b[0;36mImage.save\u001b[0;34m(self, fp, format, **params)\u001b[0m\n\u001b[1;32m   2408\u001b[0m         fp \u001b[39m=\u001b[39m builtins\u001b[39m.\u001b[39mopen(filename, \u001b[39m\"\u001b[39m\u001b[39mr+b\u001b[39m\u001b[39m\"\u001b[39m)\n\u001b[1;32m   2409\u001b[0m     \u001b[39melse\u001b[39;00m:\n\u001b[0;32m-> 2410\u001b[0m         fp \u001b[39m=\u001b[39m builtins\u001b[39m.\u001b[39;49mopen(filename, \u001b[39m\"\u001b[39;49m\u001b[39mw+b\u001b[39;49m\u001b[39m\"\u001b[39;49m)\n\u001b[1;32m   2412\u001b[0m \u001b[39mtry\u001b[39;00m:\n\u001b[1;32m   2413\u001b[0m     save_handler(\u001b[39mself\u001b[39m, fp, filename)\n",
      "\u001b[0;31mFileNotFoundError\u001b[0m: [Errno 2] No such file or directory: 'frames/_img0000.png'"
     ]
    },
    {
     "data": {
      "image/png": "[encoded data removed]",
      "text/plain": [
       "<Figure size 599.998x450 with 1 Axes>"
      ]
     },
     "metadata": {},
     "output_type": "display_data"
    }
   ],
   "source": [
    "import sys\n",
    "import numpy as np\n",
    "from scipy.integrate import odeint\n",
    "import matplotlib.pyplot as plt\n",
    "from matplotlib.patches import Circle\n",
    "\n",
    "# Pendulum rod lengths (m), bob masses (kg).\n",
    "L1, L2 = 1, 1\n",
    "m1, m2 = 1, 1\n",
    "# The gravitational acceleration (m.s-2).\n",
    "g = 9.81\n",
    "\n",
    "def deriv(y, t, L1, L2, m1, m2):\n",
    "    \"\"\"Return the first derivatives of y = theta1, z1, theta2, z2.\"\"\"\n",
    "    theta1, z1, theta2, z2 = y\n",
    "\n",
    "    c, s = np.cos(theta1-theta2), np.sin(theta1-theta2)\n",
    "\n",
    "    theta1dot = z1\n",
    "    z1dot = (m2*g*np.sin(theta2)*c - m2*s*(L1*z1**2*c + L2*z2**2) -\n",
    "             (m1+m2)*g*np.sin(theta1)) / L1 / (m1 + m2*s**2)\n",
    "    theta2dot = z2\n",
    "    z2dot = ((m1+m2)*(L1*z1**2*s - g*np.sin(theta2) + g*np.sin(theta1)*c) + \n",
    "             m2*L2*z2**2*s*c) / L2 / (m1 + m2*s**2)\n",
    "    return theta1dot, z1dot, theta2dot, z2dot\n",
    "\n",
    "def calc_E(y):\n",
    "    \"\"\"Return the total energy of the system.\"\"\"\n",
    "\n",
    "    th1, th1d, th2, th2d = y.T\n",
    "    V = -(m1+m2)*L1*g*np.cos(th1) - m2*L2*g*np.cos(th2)\n",
    "    T = 0.5*m1*(L1*th1d)**2 + 0.5*m2*((L1*th1d)**2 + (L2*th2d)**2 +\n",
    "            2*L1*L2*th1d*th2d*np.cos(th1-th2))\n",
    "    return T + V\n",
    "\n",
    "# Maximum time, time point spacings and the time grid (all in s).\n",
    "tmax, dt = 30, 0.01\n",
    "t = np.arange(0, tmax+dt, dt)\n",
    "# Initial conditions: theta1, dtheta1/dt, theta2, dtheta2/dt.\n",
    "y0 = np.array([3*np.pi/7, 0, 3*np.pi/4, 0])\n",
    "\n",
    "# Do the numerical integration of the equations of motion\n",
    "y = odeint(deriv, y0, t, args=(L1, L2, m1, m2))\n",
    "\n",
    "# Check that the calculation conserves total energy to within some tolerance.\n",
    "EDRIFT = 0.05\n",
    "# Total energy from the initial conditions\n",
    "E = calc_E(y0)\n",
    "if np.max(np.sum(np.abs(calc_E(y) - E))) > EDRIFT:\n",
    "    sys.exit('Maximum energy drift of {} exceeded.'.format(EDRIFT))\n",
    "\n",
    "# Unpack z and theta as a function of time\n",
    "theta1, theta2 = y[:,0], y[:,2]\n",
    "\n",
    "# Convert to Cartesian coordinates of the two bob positions.\n",
    "x1 = L1 * np.sin(theta1)\n",
    "y1 = -L1 * np.cos(theta1)\n",
    "x2 = x1 + L2 * np.sin(theta2)\n",
    "y2 = y1 - L2 * np.cos(theta2)\n",
    "\n",
    "# Plotted bob circle radius\n",
    "r = 0.05\n",
    "# Plot a trail of the m2 bob's position for the last trail_secs seconds.\n",
    "trail_secs = 1\n",
    "# This corresponds to max_trail time points.\n",
    "max_trail = int(trail_secs / dt)\n",
    "\n",
    "def make_plot(i):\n",
    "    # Plot and save an image of the double pendulum configuration for time\n",
    "    # point i.\n",
    "    # The pendulum rods.\n",
    "    ax.plot([0, x1[i], x2[i]], [0, y1[i], y2[i]], lw=2, c='k')\n",
    "    # Circles representing the anchor point of rod 1, and bobs 1 and 2.\n",
    "    c0 = Circle((0, 0), r/2, fc='k', zorder=10)\n",
    "    c1 = Circle((x1[i], y1[i]), r, fc='b', ec='b', zorder=10)\n",
    "    c2 = Circle((x2[i], y2[i]), r, fc='r', ec='r', zorder=10)\n",
    "    ax.add_patch(c0)\n",
    "    ax.add_patch(c1)\n",
    "    ax.add_patch(c2)\n",
    "\n",
    "    # The trail will be divided into ns segments and plotted as a fading line.\n",
    "    ns = 20\n",
    "    s = max_trail // ns\n",
    "\n",
    "    for j in range(ns):\n",
    "        imin = i - (ns-j)*s\n",
    "        if imin < 0:\n",
    "            continue\n",
    "        imax = imin + s + 1\n",
    "        # The fading looks better if we square the fractional length along the\n",
    "        # trail.\n",
    "        alpha = (j/ns)**2\n",
    "        ax.plot(x2[imin:imax], y2[imin:imax], c='r', solid_capstyle='butt',\n",
    "                lw=2, alpha=alpha)\n",
    "\n",
    "    # Centre the image on the fixed anchor point, and ensure the axes are equal\n",
    "    ax.set_xlim(-L1-L2-r, L1+L2+r)\n",
    "    ax.set_ylim(-L1-L2-r, L1+L2+r)\n",
    "    ax.set_aspect('equal', adjustable='box')\n",
    "    plt.axis('off')\n",
    "    plt.savefig('frames/_img{:04d}.png'.format(i//di), dpi=72)\n",
    "    plt.cla()\n",
    "\n",
    "\n",
    "# Make an image every di time points, corresponding to a frame rate of fps\n",
    "# frames per second.\n",
    "# Frame rate, s-1\n",
    "fps = 10\n",
    "di = int(1/fps/dt)\n",
    "fig = plt.figure(figsize=(8.3333, 6.25), dpi=72)\n",
    "ax = fig.add_subplot(111)\n",
    "\n",
    "for i in range(0, t.size, di):\n",
    "    print(i // di, '/', t.size // di)\n",
    "    make_plot(i)"
   ]
  },
  {
   "cell_type": "code",
   "execution_count": null,
   "metadata": {},
   "outputs": [],
   "source": []
  }
 ],
 "metadata": {
  "kernelspec": {
   "display_name": "virtual_env",
   "language": "python",
   "name": "python3"
  },
  "language_info": {
   "codemirror_mode": {
    "name": "ipython",
    "version": 3
   },
   "file_extension": ".py",
   "mimetype": "text/x-python",
   "name": "python",
   "nbconvert_exporter": "python",
   "pygments_lexer": "ipython3",
   "version": "3.11.2"
  },
  "orig_nbformat": 4
 },
 "nbformat": 4,
 "nbformat_minor": 2
}
